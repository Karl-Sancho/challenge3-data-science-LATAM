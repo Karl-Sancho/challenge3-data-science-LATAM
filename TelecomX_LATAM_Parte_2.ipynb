{
  "nbformat": 4,
  "nbformat_minor": 0,
  "metadata": {
    "colab": {
      "provenance": [],
      "authorship_tag": "ABX9TyPOWjN8NNANUUt/DVj9n+wN",
      "include_colab_link": true
    },
    "kernelspec": {
      "name": "python3",
      "display_name": "Python 3"
    },
    "language_info": {
      "name": "python"
    }
  },
  "cells": [
    {
      "cell_type": "markdown",
      "metadata": {
        "id": "view-in-github",
        "colab_type": "text"
      },
      "source": [
        "<a href=\"https://colab.research.google.com/github/Karl-Sancho/challenge3-data-science-LATAM/blob/main/TelecomX_LATAM_Parte_2.ipynb\" target=\"_parent\"><img src=\"https://colab.research.google.com/assets/colab-badge.svg\" alt=\"Open In Colab\"/></a>"
      ]
    },
    {
      "cell_type": "markdown",
      "source": [
        "# Telecom X – Parte 2: Predicción de Cancelación (Churn)"
      ],
      "metadata": {
        "id": "re4WJy-VcS2Z"
      }
    },
    {
      "cell_type": "markdown",
      "source": [
        "## 🎯 Misión\n",
        "\n",
        "Tu nueva misión es desarrollar modelos predictivos capaces de prever qué clientes tienen mayor probabilidad de cancelar sus servicios.\n",
        "\n",
        "La empresa quiere anticiparse al problema de la cancelación, y te corresponde a ti construir un pipeline robusto para esta etapa inicial de modelado."
      ],
      "metadata": {
        "id": "496fiSPecZAf"
      }
    },
    {
      "cell_type": "markdown",
      "source": [
        "## 🧠 Objetivos del Desafío\n",
        "\n",
        "Preparar los datos para el modelado (tratamiento, codificación, normalización).\n",
        "\n",
        "Realizar análisis de correlación y selección de variables.\n",
        "\n",
        "Entrenar dos o más modelos de clasificación.\n",
        "\n",
        "Evaluar el rendimiento de los modelos con métricas.\n",
        "\n",
        "Interpretar los resultados, incluyendo la importancia de las variables.\n",
        "\n",
        "Crear una conclusión estratégica señalando los principales factores que influyen en la cancelación."
      ],
      "metadata": {
        "id": "iQZ92Dw2ceuv"
      }
    },
    {
      "cell_type": "markdown",
      "source": [
        "## 1- Extracción del Archivo Tratado"
      ],
      "metadata": {
        "id": "ejD_HvYiffWv"
      }
    },
    {
      "cell_type": "code",
      "execution_count": 1,
      "metadata": {
        "id": "pd0Ty8Kna8Fk"
      },
      "outputs": [],
      "source": [
        "import pandas as pd"
      ]
    },
    {
      "cell_type": "code",
      "source": [
        "df = pd.read_csv('data/telecom_users_clean.csv')"
      ],
      "metadata": {
        "id": "hJEeyzCNf5ia"
      },
      "execution_count": null,
      "outputs": []
    }
  ]
}